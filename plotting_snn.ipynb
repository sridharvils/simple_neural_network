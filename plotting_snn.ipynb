{
 "cells": [
  {
   "cell_type": "code",
   "execution_count": 37,
   "metadata": {
    "collapsed": false
   },
   "outputs": [
    {
     "data": {
      "text/plain": [
       "[<matplotlib.lines.Line2D at 0x7f1743b06d90>]"
      ]
     },
     "execution_count": 37,
     "metadata": {},
     "output_type": "execute_result"
    }
   ],
   "source": [
    "import os\n",
    "import numpy as np\n",
    "import matplotlib.pyplot as plt\n",
    "\n",
    "w_1 = np.array([[-0.64587277, -0.80516493, -0.63544309, -0.84460342,  3.07637   ],\n",
    "       [-0.46520141, -1.08016455, -0.21491271,  1.22664142, -0.0757059 ],\n",
    "       [ 0.89710909,  0.48785353, -1.3357091 ,  0.57257211,  0.08285365]])\n",
    "\n",
    "w_2 = np.array([[-0.44730416,  1.09383225],\n",
    "       [-0.53183931,  1.30958927],\n",
    "       [-0.46912408,  1.39418733],\n",
    "       [-0.43296802,  1.5019294 ],\n",
    "       [ 2.68314743, -1.4023056 ]])\n",
    "\n",
    "'''w_1 = np.array([[ 1.88186193, -1.11504304, -1.03859437, -0.86744803],\n",
    "              [-0.09193385, -0.69263905, -0.19358855,  0.71967518],\n",
    "              [-0.08910699,  0.49929994, -0.88906199,  0.2413584 ]])\n",
    "w_2 =np.array([[ 1.32103264, -1.24454677],\n",
    "     [-0.93928003,  0.90982473],\n",
    "     [-1.04849482,  0.79955429],\n",
    "     [-0.87476611,  0.67979264]])'''\n",
    "\n",
    "dir_path = os.getcwd()\n",
    "filename = dir_path + \"/circ_in_circ2.csv\"\n",
    "data = np.genfromtxt(filename,delimiter=',',skip_header=1)\n",
    "\n",
    "x1 = data[:,0]\n",
    "x2 = data[:,1]\n",
    "plt.plot(x1,x2,'o')\n",
    "#plt.show()"
   ]
  },
  {
   "cell_type": "code",
   "execution_count": 38,
   "metadata": {
    "collapsed": false
   },
   "outputs": [],
   "source": [
    "for a in np.arange(-10,10,.2):\n",
    "    for b in np.arange(-10,10,.2):\n",
    "        inx = [1,a,b]\n",
    "        h = np.dot(inx,w_1)\n",
    "        h = h.clip(min=0)\n",
    "        out = np.dot(h,w_2)\n",
    "        #print out\n",
    "        if (out[0]>out[1]):\n",
    "            plt.plot(a,b,marker='.', color='r')\n",
    "        else:\n",
    "            plt.plot(a,b,marker='.', color='g')\n",
    "plt.show()"
   ]
  },
  {
   "cell_type": "code",
   "execution_count": null,
   "metadata": {
    "collapsed": true
   },
   "outputs": [],
   "source": []
  }
 ],
 "metadata": {
  "kernelspec": {
   "display_name": "Python 2",
   "language": "python",
   "name": "python2"
  },
  "language_info": {
   "codemirror_mode": {
    "name": "ipython",
    "version": 2
   },
   "file_extension": ".py",
   "mimetype": "text/x-python",
   "name": "python",
   "nbconvert_exporter": "python",
   "pygments_lexer": "ipython2",
   "version": "2.7.12"
  }
 },
 "nbformat": 4,
 "nbformat_minor": 2
}
